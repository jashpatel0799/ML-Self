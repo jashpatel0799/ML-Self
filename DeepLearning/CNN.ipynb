{
 "cells": [
  {
   "cell_type": "code",
   "execution_count": 34,
   "id": "7b1afd19-64af-402e-862d-619c85d5a23b",
   "metadata": {},
   "outputs": [],
   "source": [
    "import numpy as np\n",
    "import tensorflow as tf\n",
    "import keras.utils as image\n",
    "from keras.preprocessing.image  import ImageDataGenerator"
   ]
  },
  {
   "cell_type": "code",
   "execution_count": 16,
   "id": "5162fe95-234b-4a4c-9af0-d0e4a49c3b65",
   "metadata": {},
   "outputs": [
    {
     "name": "stdout",
     "output_type": "stream",
     "text": [
      "Found 8000 images belonging to 2 classes.\n",
      "Found 2000 images belonging to 2 classes.\n"
     ]
    }
   ],
   "source": [
    "train_datagen = ImageDataGenerator( rescale = 1./255,\n",
    "                                    shear_range = 0.2,\n",
    "                                    zoom_range = 0.2,\n",
    "                                    horizontal_flip = True )\n",
    "training_set = train_datagen.flow_from_directory( 'dataset/training_set',\n",
    "                                                  target_size = (64, 64),\n",
    "                                                  batch_size = 32,\n",
    "                                                  class_mode = 'binary' )\n",
    "\n",
    "\n",
    "test_datagen = ImageDataGenerator( rescale = 1./255 )\n",
    "test_set = test_datagen.flow_from_directory( 'dataset/test_set',\n",
    "                                              target_size = (64, 64),\n",
    "                                              batch_size = 32,\n",
    "                                              class_mode = 'binary'  )"
   ]
  },
  {
   "cell_type": "code",
   "execution_count": 17,
   "id": "76d232b6-1f07-4a55-bae4-bfc0742b1c4e",
   "metadata": {},
   "outputs": [],
   "source": [
    "cnn = tf.keras.models.Sequential()"
   ]
  },
  {
   "cell_type": "code",
   "execution_count": 18,
   "id": "f4383f4f-6fc2-45a0-8c00-617cb73a873e",
   "metadata": {},
   "outputs": [],
   "source": [
    "cnn.add(tf.keras.layers.Conv2D(filters = 32, kernel_size = 3, activation = 'relu', input_shape = [64, 64, 3]))\n",
    "cnn.add(tf.keras.layers.MaxPool2D(pool_size = 2, strides = 2))"
   ]
  },
  {
   "cell_type": "code",
   "execution_count": 19,
   "id": "d374b6da-7187-4be0-a039-9f7f5c72e8d8",
   "metadata": {},
   "outputs": [],
   "source": [
    "cnn.add(tf.keras.layers.Conv2D(filters = 32, kernel_size = 3, activation = 'relu'))\n",
    "cnn.add(tf.keras.layers.MaxPool2D(pool_size = 2, strides = 2))"
   ]
  },
  {
   "cell_type": "code",
   "execution_count": 20,
   "id": "ccefe25f-d973-45b4-9fe8-f0e4929f6d88",
   "metadata": {},
   "outputs": [],
   "source": [
    "cnn.add(tf.keras.layers.Flatten())"
   ]
  },
  {
   "cell_type": "code",
   "execution_count": 21,
   "id": "771b1b1a-63ea-4123-82c9-870e1532ee47",
   "metadata": {},
   "outputs": [],
   "source": [
    "cnn.add(tf.keras.layers.Dense(units = 128, activation = 'relu'))"
   ]
  },
  {
   "cell_type": "code",
   "execution_count": 22,
   "id": "c990026a-bd12-4d86-bcf5-d8d594c17826",
   "metadata": {},
   "outputs": [],
   "source": [
    "cnn.add(tf.keras.layers.Dense(units = 1, activation = 'sigmoid'))"
   ]
  },
  {
   "cell_type": "code",
   "execution_count": 23,
   "id": "617ffc02-6985-4804-85e0-f227f2559ac8",
   "metadata": {},
   "outputs": [
    {
     "name": "stdout",
     "output_type": "stream",
     "text": [
      "Epoch 1/32\n",
      "250/250 [==============================] - 13s 49ms/step - loss: 0.6760 - accuracy: 0.5756 - val_loss: 0.6396 - val_accuracy: 0.6410\n",
      "Epoch 2/32\n",
      "250/250 [==============================] - 12s 49ms/step - loss: 0.6311 - accuracy: 0.6471 - val_loss: 0.6298 - val_accuracy: 0.6560\n",
      "Epoch 3/32\n",
      "250/250 [==============================] - 12s 48ms/step - loss: 0.5879 - accuracy: 0.6894 - val_loss: 0.5776 - val_accuracy: 0.7055\n",
      "Epoch 4/32\n",
      "250/250 [==============================] - 13s 51ms/step - loss: 0.5495 - accuracy: 0.7141 - val_loss: 0.5279 - val_accuracy: 0.7330\n",
      "Epoch 5/32\n",
      "250/250 [==============================] - 13s 52ms/step - loss: 0.5123 - accuracy: 0.7492 - val_loss: 0.5610 - val_accuracy: 0.7055\n",
      "Epoch 6/32\n",
      "250/250 [==============================] - 18s 72ms/step - loss: 0.4887 - accuracy: 0.7616 - val_loss: 0.4851 - val_accuracy: 0.7640\n",
      "Epoch 7/32\n",
      "250/250 [==============================] - 17s 68ms/step - loss: 0.4708 - accuracy: 0.7742 - val_loss: 0.5227 - val_accuracy: 0.7420\n",
      "Epoch 8/32\n",
      "250/250 [==============================] - 16s 63ms/step - loss: 0.4461 - accuracy: 0.7891 - val_loss: 0.5458 - val_accuracy: 0.7575\n",
      "Epoch 9/32\n",
      "250/250 [==============================] - 15s 62ms/step - loss: 0.4319 - accuracy: 0.8000 - val_loss: 0.4749 - val_accuracy: 0.7760\n",
      "Epoch 10/32\n",
      "250/250 [==============================] - 15s 61ms/step - loss: 0.4123 - accuracy: 0.8085 - val_loss: 0.4658 - val_accuracy: 0.7815\n",
      "Epoch 11/32\n",
      "250/250 [==============================] - 15s 62ms/step - loss: 0.3891 - accuracy: 0.8219 - val_loss: 0.4618 - val_accuracy: 0.7805\n",
      "Epoch 12/32\n",
      "250/250 [==============================] - 16s 62ms/step - loss: 0.3764 - accuracy: 0.8254 - val_loss: 0.4691 - val_accuracy: 0.7820\n",
      "Epoch 13/32\n",
      "250/250 [==============================] - 16s 62ms/step - loss: 0.3663 - accuracy: 0.8378 - val_loss: 0.4485 - val_accuracy: 0.8020\n",
      "Epoch 14/32\n",
      "250/250 [==============================] - 16s 64ms/step - loss: 0.3385 - accuracy: 0.8505 - val_loss: 0.4721 - val_accuracy: 0.7905\n",
      "Epoch 15/32\n",
      "250/250 [==============================] - 16s 62ms/step - loss: 0.3284 - accuracy: 0.8547 - val_loss: 0.4465 - val_accuracy: 0.8055\n",
      "Epoch 16/32\n",
      "250/250 [==============================] - 16s 65ms/step - loss: 0.3059 - accuracy: 0.8649 - val_loss: 0.4881 - val_accuracy: 0.7945\n",
      "Epoch 17/32\n",
      "250/250 [==============================] - 16s 63ms/step - loss: 0.2843 - accuracy: 0.8816 - val_loss: 0.5328 - val_accuracy: 0.8015\n",
      "Epoch 18/32\n",
      "250/250 [==============================] - 15s 62ms/step - loss: 0.2810 - accuracy: 0.8825 - val_loss: 0.4726 - val_accuracy: 0.8070\n",
      "Epoch 19/32\n",
      "250/250 [==============================] - 16s 64ms/step - loss: 0.2628 - accuracy: 0.8894 - val_loss: 0.4913 - val_accuracy: 0.8050\n",
      "Epoch 20/32\n",
      "250/250 [==============================] - 16s 62ms/step - loss: 0.2357 - accuracy: 0.8995 - val_loss: 0.5137 - val_accuracy: 0.8115\n",
      "Epoch 21/32\n",
      "250/250 [==============================] - 15s 59ms/step - loss: 0.2325 - accuracy: 0.9061 - val_loss: 0.5763 - val_accuracy: 0.7805\n",
      "Epoch 22/32\n",
      "250/250 [==============================] - 14s 56ms/step - loss: 0.2249 - accuracy: 0.9081 - val_loss: 0.5484 - val_accuracy: 0.8130\n",
      "Epoch 23/32\n",
      "250/250 [==============================] - 14s 55ms/step - loss: 0.2018 - accuracy: 0.9193 - val_loss: 0.6038 - val_accuracy: 0.7900\n",
      "Epoch 24/32\n",
      "250/250 [==============================] - 15s 58ms/step - loss: 0.2055 - accuracy: 0.9168 - val_loss: 0.5758 - val_accuracy: 0.7980\n",
      "Epoch 25/32\n",
      "250/250 [==============================] - 14s 56ms/step - loss: 0.1898 - accuracy: 0.9234 - val_loss: 0.5993 - val_accuracy: 0.7970\n",
      "Epoch 26/32\n",
      "250/250 [==============================] - 14s 57ms/step - loss: 0.1682 - accuracy: 0.9342 - val_loss: 0.5947 - val_accuracy: 0.8115\n",
      "Epoch 27/32\n",
      "250/250 [==============================] - 14s 56ms/step - loss: 0.1577 - accuracy: 0.9383 - val_loss: 0.6295 - val_accuracy: 0.8035\n",
      "Epoch 28/32\n",
      "250/250 [==============================] - 14s 56ms/step - loss: 0.1520 - accuracy: 0.9416 - val_loss: 0.6643 - val_accuracy: 0.8060\n",
      "Epoch 29/32\n",
      "250/250 [==============================] - 14s 56ms/step - loss: 0.1469 - accuracy: 0.9424 - val_loss: 0.6877 - val_accuracy: 0.7990\n",
      "Epoch 30/32\n",
      "250/250 [==============================] - 14s 56ms/step - loss: 0.1410 - accuracy: 0.9511 - val_loss: 0.6454 - val_accuracy: 0.8045\n",
      "Epoch 31/32\n",
      "250/250 [==============================] - 14s 56ms/step - loss: 0.1406 - accuracy: 0.9466 - val_loss: 0.7051 - val_accuracy: 0.8030\n",
      "Epoch 32/32\n",
      "250/250 [==============================] - 14s 56ms/step - loss: 0.1239 - accuracy: 0.9535 - val_loss: 0.6906 - val_accuracy: 0.8045\n"
     ]
    },
    {
     "data": {
      "text/plain": [
       "<keras.callbacks.History at 0x7fa193e16ac0>"
      ]
     },
     "execution_count": 23,
     "metadata": {},
     "output_type": "execute_result"
    }
   ],
   "source": [
    "cnn.compile(optimizer = 'adam', loss = 'binary_crossentropy', metrics = ['accuracy'])\n",
    "cnn.fit(x = training_set, validation_data = test_set, epochs = 32) "
   ]
  },
  {
   "cell_type": "code",
   "execution_count": 46,
   "id": "2d1ee6ce-27c2-4e5b-a493-4d7589db1532",
   "metadata": {},
   "outputs": [
    {
     "name": "stdout",
     "output_type": "stream",
     "text": [
      "1/1 [==============================] - 0s 12ms/step\n",
      "cat\n"
     ]
    }
   ],
   "source": [
    "test_image = image.load_img('dataset/single_prediction/cat_or_dog_4.jpg', target_size = (64, 64))\n",
    "test_image = image.img_to_array(test_image)\n",
    "test_image = np.expand_dims(test_image, axis = 0)\n",
    "result = cnn.predict(test_image)\n",
    "training_set.class_indices\n",
    "if result[0][0] == 1:\n",
    "  prediction = 'dog'\n",
    "else:\n",
    "  prediction = 'cat'\n",
    "\n",
    "print(prediction)"
   ]
  },
  {
   "cell_type": "code",
   "execution_count": null,
   "id": "1b44b416-dcf6-453d-88ca-904be4fc7f8a",
   "metadata": {},
   "outputs": [],
   "source": []
  }
 ],
 "metadata": {
  "kernelspec": {
   "display_name": "Python 3",
   "language": "python",
   "name": "python3"
  },
  "language_info": {
   "codemirror_mode": {
    "name": "ipython",
    "version": 3
   },
   "file_extension": ".py",
   "mimetype": "text/x-python",
   "name": "python",
   "nbconvert_exporter": "python",
   "pygments_lexer": "ipython3",
   "version": "3.9.12"
  }
 },
 "nbformat": 4,
 "nbformat_minor": 5
}
