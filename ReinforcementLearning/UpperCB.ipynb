{
 "cells": [
  {
   "cell_type": "code",
   "execution_count": 4,
   "id": "a29c3e55-a55c-4926-a14c-b64c0822db5a",
   "metadata": {},
   "outputs": [],
   "source": [
    "import numpy as np\n",
    "import pandas as pd\n",
    "import matplotlib.pyplot as plt\n",
    "import math"
   ]
  },
  {
   "cell_type": "code",
   "execution_count": 2,
   "id": "1f7b7add-f8f1-4706-b5ec-b52b5c029cc1",
   "metadata": {},
   "outputs": [],
   "source": [
    "info = pd.read_csv('Ads_CTR_Optimisation.csv')"
   ]
  },
  {
   "cell_type": "code",
   "execution_count": 7,
   "id": "e946f60f-ab82-4f8b-a030-cea6dddefd65",
   "metadata": {},
   "outputs": [],
   "source": [
    "N = 10000\n",
    "d = 10\n",
    "ads_selected = []\n",
    "num_slected = [0] * d\n",
    "reward_sum = [0] * d\n",
    "total_reward = 0\n",
    "\n",
    "for n in range(0,N):\n",
    "    ad = 0\n",
    "    max_upper_bound = 0\n",
    "    for i in range(0,d):\n",
    "        if (num_slected[i] > 0):\n",
    "            avg_reward = reward_sum[i] / num_slected[i]\n",
    "            delta_i = math.sqrt(1.5 * math.log(n + 1) / num_slected[i])\n",
    "            upper_bound = avg_reward + delta_i\n",
    "        else:\n",
    "            upper_bound = 1e400\n",
    "        if upper_bound > max_upper_bound:\n",
    "            max_upper_bound = upper_bound\n",
    "            ad = i\n",
    "        \n",
    "    ads_selected.append(ad)\n",
    "    num_slected[ad] += 1\n",
    "    reward = info.values[n, ad]\n",
    "    reward_sum[ad] = reward_sum[ad] + reward\n",
    "    total_reward += reward"
   ]
  },
  {
   "cell_type": "code",
   "execution_count": 10,
   "id": "b7d63303-b2c3-4d14-8237-cdbe95d78769",
   "metadata": {},
   "outputs": [
    {
     "data": {
      "image/png": "[encoded data removed]",
      "text/plain": [
       "<Figure size 432x288 with 1 Axes>"
      ]
     },
     "metadata": {
      "needs_background": "light"
     },
     "output_type": "display_data"
    }
   ],
   "source": [
    "plt.hist(ads_selected)\n",
    "plt.title('Histogram of Ads selection')\n",
    "plt.xlabel('Ads')\n",
    "plt.ylabel('Number of Time Each Ads Selected')\n",
    "plt.show()"
   ]
  },
  {
   "cell_type": "code",
   "execution_count": null,
   "id": "5ce86a4e-0ed9-46d0-b319-9f56f1d1bc7f",
   "metadata": {},
   "outputs": [],
   "source": []
  }
 ],
 "metadata": {
  "kernelspec": {
   "display_name": "Python 3",
   "language": "python",
   "name": "python3"
  },
  "language_info": {
   "codemirror_mode": {
    "name": "ipython",
    "version": 3
   },
   "file_extension": ".py",
   "mimetype": "text/x-python",
   "name": "python",
   "nbconvert_exporter": "python",
   "pygments_lexer": "ipython3",
   "version": "3.9.12"
  }
 },
 "nbformat": 4,
 "nbformat_minor": 5
}
