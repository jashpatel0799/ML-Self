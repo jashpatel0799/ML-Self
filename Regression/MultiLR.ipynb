{
 "cells": [
  {
   "cell_type": "code",
   "execution_count": 13,
   "id": "f414040b-d411-4320-a5f6-b558e9a272d9",
   "metadata": {},
   "outputs": [],
   "source": [
    "import numpy as np\n",
    "import pandas as pd\n",
    "import matplotlib.pyplot as plt\n",
    "from sklearn.preprocessing import StandardScaler\n",
    "from sklearn.model_selection import train_test_split\n",
    "from sklearn.linear_model import LinearRegression\n",
    "from sklearn.metrics import accuracy_score"
   ]
  },
  {
   "cell_type": "code",
   "execution_count": 2,
   "id": "01b2d022-68b0-4db2-99bf-d93effd79cf7",
   "metadata": {},
   "outputs": [
    {
     "data": {
      "text/html": [
       "<div>\n",
       "<style scoped>\n",
       "    .dataframe tbody tr th:only-of-type {\n",
       "        vertical-align: middle;\n",
       "    }\n",
       "\n",
       "    .dataframe tbody tr th {\n",
       "        vertical-align: top;\n",
       "    }\n",
       "\n",
       "    .dataframe thead th {\n",
       "        text-align: right;\n",
       "    }\n",
       "</style>\n",
       "<table border=\"1\" class=\"dataframe\">\n",
       "  <thead>\n",
       "    <tr style=\"text-align: right;\">\n",
       "      <th></th>\n",
       "      <th>TV</th>\n",
       "      <th>Radio</th>\n",
       "      <th>Newspaper</th>\n",
       "      <th>Sales</th>\n",
       "    </tr>\n",
       "  </thead>\n",
       "  <tbody>\n",
       "    <tr>\n",
       "      <th>0</th>\n",
       "      <td>230.1</td>\n",
       "      <td>37.8</td>\n",
       "      <td>69.2</td>\n",
       "      <td>22.1</td>\n",
       "    </tr>\n",
       "    <tr>\n",
       "      <th>1</th>\n",
       "      <td>44.5</td>\n",
       "      <td>39.3</td>\n",
       "      <td>45.1</td>\n",
       "      <td>10.4</td>\n",
       "    </tr>\n",
       "    <tr>\n",
       "      <th>2</th>\n",
       "      <td>17.2</td>\n",
       "      <td>45.9</td>\n",
       "      <td>69.3</td>\n",
       "      <td>12.0</td>\n",
       "    </tr>\n",
       "    <tr>\n",
       "      <th>3</th>\n",
       "      <td>151.5</td>\n",
       "      <td>41.3</td>\n",
       "      <td>58.5</td>\n",
       "      <td>16.5</td>\n",
       "    </tr>\n",
       "    <tr>\n",
       "      <th>4</th>\n",
       "      <td>180.8</td>\n",
       "      <td>10.8</td>\n",
       "      <td>58.4</td>\n",
       "      <td>17.9</td>\n",
       "    </tr>\n",
       "  </tbody>\n",
       "</table>\n",
       "</div>"
      ],
      "text/plain": [
       "      TV  Radio  Newspaper  Sales\n",
       "0  230.1   37.8       69.2   22.1\n",
       "1   44.5   39.3       45.1   10.4\n",
       "2   17.2   45.9       69.3   12.0\n",
       "3  151.5   41.3       58.5   16.5\n",
       "4  180.8   10.8       58.4   17.9"
      ]
     },
     "execution_count": 2,
     "metadata": {},
     "output_type": "execute_result"
    }
   ],
   "source": [
    "info = pd.read_csv(\"advertising.csv\")\n",
    "info.head()"
   ]
  },
  {
   "cell_type": "code",
   "execution_count": 3,
   "id": "c64429bd-20bf-488a-ac92-614972fc8e33",
   "metadata": {},
   "outputs": [],
   "source": [
    "x = info.iloc[:,:-1]\n",
    "y = info.iloc[:,-1:]"
   ]
  },
  {
   "cell_type": "code",
   "execution_count": 4,
   "id": "4fbc1962-b4d3-4045-9394-37a8afd79bfc",
   "metadata": {},
   "outputs": [],
   "source": [
    "x_train, x_test, y_train, y_test = train_test_split(x, y, test_size=0.25, random_state=64)"
   ]
  },
  {
   "cell_type": "code",
   "execution_count": 5,
   "id": "3ea66471-7da3-4a96-af8e-58344fc1f763",
   "metadata": {},
   "outputs": [],
   "source": [
    "sc = StandardScaler()\n",
    "x_train = sc.fit_transform(x_train)\n",
    "x_test = sc.fit_transform(x_test)\n",
    "y_train = sc.fit_transform(y_train)\n",
    "y_test = sc.fit_transform(y_test)"
   ]
  },
  {
   "cell_type": "code",
   "execution_count": 7,
   "id": "dc433dee-d7ed-491e-a656-3f29ad928aa0",
   "metadata": {},
   "outputs": [],
   "source": [
    "rc = LinearRegression()\n",
    "clf = rc.fit(x_train,y_train)"
   ]
  },
  {
   "cell_type": "code",
   "execution_count": 8,
   "id": "81568831-780a-498f-909f-f4c6dae28f97",
   "metadata": {},
   "outputs": [],
   "source": [
    "y_pred = clf.predict(x_test)"
   ]
  },
  {
   "cell_type": "code",
   "execution_count": 19,
   "id": "94869e67-b652-489f-8679-5698dcf1d0b5",
   "metadata": {},
   "outputs": [
    {
     "name": "stdout",
     "output_type": "stream",
     "text": [
      "[[ 0.95  1.48]\n",
      " [ 0.22  0.38]\n",
      " [ 0.29  0.21]\n",
      " [-0.44 -0.13]\n",
      " [ 0.58  0.57]\n",
      " [-0.89 -0.76]\n",
      " [ 1.05  0.72]\n",
      " [ 0.35  0.69]\n",
      " [ 1.03  0.34]\n",
      " [-1.63 -1.7 ]\n",
      " [-0.26 -0.15]\n",
      " [-1.22 -0.76]\n",
      " [ 1.46  1.03]\n",
      " [ 0.92  1.2 ]\n",
      " [-0.56 -1.12]\n",
      " [ 1.01  0.72]\n",
      " [ 0.17  0.86]\n",
      " [ 1.48  0.89]\n",
      " [-0.45 -0.72]\n",
      " [ 0.84  0.15]\n",
      " [-0.02  0.08]\n",
      " [-1.74 -1.67]\n",
      " [ 0.87  1.25]\n",
      " [-0.54 -0.26]\n",
      " [ 0.55  0.19]\n",
      " [ 0.26  0.23]\n",
      " [-1.28 -0.89]\n",
      " [ 0.58  0.89]\n",
      " [-0.06  0.29]\n",
      " [ 1.08  0.02]\n",
      " [ 0.86  1.08]\n",
      " [-0.81 -0.95]\n",
      " [ 0.47  0.46]\n",
      " [ 0.57  0.99]\n",
      " [-0.45 -0.09]\n",
      " [-0.66 -1.08]\n",
      " [-1.72 -1.59]\n",
      " [-0.85 -0.83]\n",
      " [-1.01 -0.43]\n",
      " [-0.79 -0.64]\n",
      " [-1.33 -0.77]\n",
      " [-1.45 -1.78]\n",
      " [-0.55 -0.53]\n",
      " [ 1.04  0.27]\n",
      " [ 1.59  1.8 ]\n",
      " [ 1.53  1.6 ]\n",
      " [-1.5  -2.73]\n",
      " [ 1.28  1.79]\n",
      " [-0.02  0.21]\n",
      " [-0.79 -0.85]]\n"
     ]
    }
   ],
   "source": [
    "# clf.score(y_pred,y_test)\n",
    "np.set_printoptions(precision=2)\n",
    "print(np.concatenate((y_pred.reshape(len(y_pred), 1),y_test.reshape(len(y_test), 1)),1))"
   ]
  },
  {
   "cell_type": "code",
   "execution_count": null,
   "id": "fa2b6fe0-81f4-4cf4-9beb-f6ea24a767f6",
   "metadata": {},
   "outputs": [],
   "source": []
  }
 ],
 "metadata": {
  "kernelspec": {
   "display_name": "Python 3",
   "language": "python",
   "name": "python3"
  },
  "language_info": {
   "codemirror_mode": {
    "name": "ipython",
    "version": 3
   },
   "file_extension": ".py",
   "mimetype": "text/x-python",
   "name": "python",
   "nbconvert_exporter": "python",
   "pygments_lexer": "ipython3",
   "version": "3.9.12"
  }
 },
 "nbformat": 4,
 "nbformat_minor": 5
}
