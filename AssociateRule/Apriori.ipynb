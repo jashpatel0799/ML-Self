{
 "cells": [
  {
   "cell_type": "code",
   "execution_count": 1,
   "id": "5d7adc8a-6aad-4647-96b9-914dcf7b11bb",
   "metadata": {},
   "outputs": [
    {
     "name": "stdout",
     "output_type": "stream",
     "text": [
      "Collecting apyori\n",
      "  Downloading apyori-1.1.2.tar.gz (8.6 kB)\n",
      "Building wheels for collected packages: apyori\n",
      "  Building wheel for apyori (setup.py) ... \u001b[?25ldone\n",
      "\u001b[?25h  Created wheel for apyori: filename=apyori-1.1.2-py3-none-any.whl size=5974 sha256=d6cf33f187e5285178fe535f656996ba75d99b58c4a226ad86fe7d2945c6e05b\n",
      "  Stored in directory: /home/jash/.cache/pip/wheels/32/2a/54/10c595515f385f3726642b10c60bf788029e8f3a1323e3913a\n",
      "Successfully built apyori\n",
      "Installing collected packages: apyori\n",
      "Successfully installed apyori-1.1.2\n"
     ]
    }
   ],
   "source": [
    "!pip install apyori"
   ]
  },
  {
   "cell_type": "code",
   "execution_count": 9,
   "id": "3a9d57d1-de2d-4ff5-90bd-ca6811d6aeb5",
   "metadata": {},
   "outputs": [],
   "source": [
    "import numpy as np\n",
    "import pandas as pd\n",
    "import matplotlib.pyplot as plt\n",
    "from apyori import apriori"
   ]
  },
  {
   "cell_type": "code",
   "execution_count": 5,
   "id": "e6515b79-b214-4887-b248-6704ca1ed11e",
   "metadata": {},
   "outputs": [],
   "source": [
    "info = pd.read_csv('Market_Basket_Optimisation.csv', header=None)"
   ]
  },
  {
   "cell_type": "code",
   "execution_count": 8,
   "id": "b2a8d59b-898a-4778-9fce-e62a09856ae2",
   "metadata": {},
   "outputs": [],
   "source": [
    "tran = []\n",
    "for i in range(0,7501):\n",
    "    tran.append([str(info.values[i,j]) for j in range(0,20)])"
   ]
  },
  {
   "cell_type": "code",
   "execution_count": 39,
   "id": "3e9a2175-dec0-421e-9b41-38a1800afae4",
   "metadata": {},
   "outputs": [],
   "source": [
    "rules = apriori(transactions = tran, min_support = 0.004, min_confidence = 0.4, min_lift = 3, min_length = 2, max_lenght = 2)"
   ]
  },
  {
   "cell_type": "code",
   "execution_count": 40,
   "id": "1e5585aa-7b13-43ad-a5f7-672f40c7b88f",
   "metadata": {},
   "outputs": [
    {
     "data": {
      "text/plain": [
       "[RelationRecord(items=frozenset({'ground beef', 'spaghetti', 'cooking oil'}), support=0.004799360085321957, ordered_statistics=[OrderedStatistic(items_base=frozenset({'ground beef', 'cooking oil'}), items_add=frozenset({'spaghetti'}), confidence=0.5714285714285714, lift=3.2819951870487856)]),\n",
       " RelationRecord(items=frozenset({'milk', 'olive oil', 'frozen vegetables'}), support=0.004799360085321957, ordered_statistics=[OrderedStatistic(items_base=frozenset({'olive oil', 'frozen vegetables'}), items_add=frozenset({'milk'}), confidence=0.4235294117647058, lift=3.2684095860566447)]),\n",
       " RelationRecord(items=frozenset({'ground beef', 'shrimp', 'spaghetti'}), support=0.005999200106652446, ordered_statistics=[OrderedStatistic(items_base=frozenset({'ground beef', 'shrimp'}), items_add=frozenset({'spaghetti'}), confidence=0.5232558139534884, lift=3.005315360233627)]),\n",
       " RelationRecord(items=frozenset({'spaghetti', 'olive oil', 'tomatoes'}), support=0.004399413411545127, ordered_statistics=[OrderedStatistic(items_base=frozenset({'olive oil', 'tomatoes'}), items_add=frozenset({'spaghetti'}), confidence=0.6111111111111112, lift=3.5099115194827295)]),\n",
       " RelationRecord(items=frozenset({'ground beef', 'nan', 'spaghetti', 'cooking oil'}), support=0.004799360085321957, ordered_statistics=[OrderedStatistic(items_base=frozenset({'ground beef', 'cooking oil'}), items_add=frozenset({'spaghetti', 'nan'}), confidence=0.5714285714285714, lift=3.2819951870487856), OrderedStatistic(items_base=frozenset({'ground beef', 'nan', 'cooking oil'}), items_add=frozenset({'spaghetti'}), confidence=0.5714285714285714, lift=3.2819951870487856)]),\n",
       " RelationRecord(items=frozenset({'milk', 'nan', 'olive oil', 'frozen vegetables'}), support=0.004799360085321957, ordered_statistics=[OrderedStatistic(items_base=frozenset({'olive oil', 'frozen vegetables'}), items_add=frozenset({'nan', 'milk'}), confidence=0.4235294117647058, lift=3.2684095860566447), OrderedStatistic(items_base=frozenset({'nan', 'olive oil', 'frozen vegetables'}), items_add=frozenset({'milk'}), confidence=0.4235294117647058, lift=3.2684095860566447)]),\n",
       " RelationRecord(items=frozenset({'ground beef', 'nan', 'shrimp', 'spaghetti'}), support=0.005999200106652446, ordered_statistics=[OrderedStatistic(items_base=frozenset({'ground beef', 'shrimp'}), items_add=frozenset({'spaghetti', 'nan'}), confidence=0.5232558139534884, lift=3.005315360233627), OrderedStatistic(items_base=frozenset({'ground beef', 'nan', 'shrimp'}), items_add=frozenset({'spaghetti'}), confidence=0.5232558139534884, lift=3.005315360233627)]),\n",
       " RelationRecord(items=frozenset({'spaghetti', 'nan', 'olive oil', 'tomatoes'}), support=0.004399413411545127, ordered_statistics=[OrderedStatistic(items_base=frozenset({'olive oil', 'tomatoes'}), items_add=frozenset({'spaghetti', 'nan'}), confidence=0.6111111111111112, lift=3.5099115194827295), OrderedStatistic(items_base=frozenset({'nan', 'olive oil', 'tomatoes'}), items_add=frozenset({'spaghetti'}), confidence=0.6111111111111112, lift=3.5099115194827295)])]"
      ]
     },
     "execution_count": 40,
     "metadata": {},
     "output_type": "execute_result"
    }
   ],
   "source": [
    "results = list(rules)\n",
    "results"
   ]
  },
  {
   "cell_type": "code",
   "execution_count": 41,
   "id": "f3d93cb9-026e-4ae3-a6c4-b3ac4a5c68d6",
   "metadata": {},
   "outputs": [],
   "source": [
    "def inspect(results):\n",
    "    lhs         = [tuple(result[2][0][0])[0] for result in results]\n",
    "    rhs         = [tuple(result[2][0][1])[0] for result in results]\n",
    "    supports    = [result[1] for result in results]\n",
    "    confidences = [result[2][0][2] for result in results]\n",
    "    lifts       = [result[2][0][3] for result in results]\n",
    "    return list(zip(lhs, rhs, supports, confidences, lifts))\n",
    "resultsinDataFrame = pd.DataFrame(inspect(results), columns = ['Left Hand Side', 'Right Hand Side', 'Support', 'Confidence', 'Lift'])"
   ]
  },
  {
   "cell_type": "code",
   "execution_count": 42,
   "id": "b89fb1b0-f354-4cd0-b87b-6dfdc21396a2",
   "metadata": {},
   "outputs": [
    {
     "data": {
      "text/html": [
       "<div>\n",
       "<style scoped>\n",
       "    .dataframe tbody tr th:only-of-type {\n",
       "        vertical-align: middle;\n",
       "    }\n",
       "\n",
       "    .dataframe tbody tr th {\n",
       "        vertical-align: top;\n",
       "    }\n",
       "\n",
       "    .dataframe thead th {\n",
       "        text-align: right;\n",
       "    }\n",
       "</style>\n",
       "<table border=\"1\" class=\"dataframe\">\n",
       "  <thead>\n",
       "    <tr style=\"text-align: right;\">\n",
       "      <th></th>\n",
       "      <th>Left Hand Side</th>\n",
       "      <th>Right Hand Side</th>\n",
       "      <th>Support</th>\n",
       "      <th>Confidence</th>\n",
       "      <th>Lift</th>\n",
       "    </tr>\n",
       "  </thead>\n",
       "  <tbody>\n",
       "    <tr>\n",
       "      <th>0</th>\n",
       "      <td>ground beef</td>\n",
       "      <td>spaghetti</td>\n",
       "      <td>0.004799</td>\n",
       "      <td>0.571429</td>\n",
       "      <td>3.281995</td>\n",
       "    </tr>\n",
       "    <tr>\n",
       "      <th>1</th>\n",
       "      <td>olive oil</td>\n",
       "      <td>milk</td>\n",
       "      <td>0.004799</td>\n",
       "      <td>0.423529</td>\n",
       "      <td>3.268410</td>\n",
       "    </tr>\n",
       "    <tr>\n",
       "      <th>2</th>\n",
       "      <td>ground beef</td>\n",
       "      <td>spaghetti</td>\n",
       "      <td>0.005999</td>\n",
       "      <td>0.523256</td>\n",
       "      <td>3.005315</td>\n",
       "    </tr>\n",
       "    <tr>\n",
       "      <th>3</th>\n",
       "      <td>olive oil</td>\n",
       "      <td>spaghetti</td>\n",
       "      <td>0.004399</td>\n",
       "      <td>0.611111</td>\n",
       "      <td>3.509912</td>\n",
       "    </tr>\n",
       "    <tr>\n",
       "      <th>4</th>\n",
       "      <td>ground beef</td>\n",
       "      <td>spaghetti</td>\n",
       "      <td>0.004799</td>\n",
       "      <td>0.571429</td>\n",
       "      <td>3.281995</td>\n",
       "    </tr>\n",
       "    <tr>\n",
       "      <th>5</th>\n",
       "      <td>olive oil</td>\n",
       "      <td>nan</td>\n",
       "      <td>0.004799</td>\n",
       "      <td>0.423529</td>\n",
       "      <td>3.268410</td>\n",
       "    </tr>\n",
       "    <tr>\n",
       "      <th>6</th>\n",
       "      <td>ground beef</td>\n",
       "      <td>spaghetti</td>\n",
       "      <td>0.005999</td>\n",
       "      <td>0.523256</td>\n",
       "      <td>3.005315</td>\n",
       "    </tr>\n",
       "    <tr>\n",
       "      <th>7</th>\n",
       "      <td>olive oil</td>\n",
       "      <td>spaghetti</td>\n",
       "      <td>0.004399</td>\n",
       "      <td>0.611111</td>\n",
       "      <td>3.509912</td>\n",
       "    </tr>\n",
       "  </tbody>\n",
       "</table>\n",
       "</div>"
      ],
      "text/plain": [
       "  Left Hand Side Right Hand Side   Support  Confidence      Lift\n",
       "0    ground beef       spaghetti  0.004799    0.571429  3.281995\n",
       "1      olive oil            milk  0.004799    0.423529  3.268410\n",
       "2    ground beef       spaghetti  0.005999    0.523256  3.005315\n",
       "3      olive oil       spaghetti  0.004399    0.611111  3.509912\n",
       "4    ground beef       spaghetti  0.004799    0.571429  3.281995\n",
       "5      olive oil             nan  0.004799    0.423529  3.268410\n",
       "6    ground beef       spaghetti  0.005999    0.523256  3.005315\n",
       "7      olive oil       spaghetti  0.004399    0.611111  3.509912"
      ]
     },
     "execution_count": 42,
     "metadata": {},
     "output_type": "execute_result"
    }
   ],
   "source": [
    "resultsinDataFrame"
   ]
  },
  {
   "cell_type": "code",
   "execution_count": 43,
   "id": "715684e1-f3ef-4d92-ab83-a10b41293b56",
   "metadata": {},
   "outputs": [
    {
     "data": {
      "text/html": [
       "<div>\n",
       "<style scoped>\n",
       "    .dataframe tbody tr th:only-of-type {\n",
       "        vertical-align: middle;\n",
       "    }\n",
       "\n",
       "    .dataframe tbody tr th {\n",
       "        vertical-align: top;\n",
       "    }\n",
       "\n",
       "    .dataframe thead th {\n",
       "        text-align: right;\n",
       "    }\n",
       "</style>\n",
       "<table border=\"1\" class=\"dataframe\">\n",
       "  <thead>\n",
       "    <tr style=\"text-align: right;\">\n",
       "      <th></th>\n",
       "      <th>Left Hand Side</th>\n",
       "      <th>Right Hand Side</th>\n",
       "      <th>Support</th>\n",
       "      <th>Confidence</th>\n",
       "      <th>Lift</th>\n",
       "    </tr>\n",
       "  </thead>\n",
       "  <tbody>\n",
       "    <tr>\n",
       "      <th>3</th>\n",
       "      <td>olive oil</td>\n",
       "      <td>spaghetti</td>\n",
       "      <td>0.004399</td>\n",
       "      <td>0.611111</td>\n",
       "      <td>3.509912</td>\n",
       "    </tr>\n",
       "    <tr>\n",
       "      <th>7</th>\n",
       "      <td>olive oil</td>\n",
       "      <td>spaghetti</td>\n",
       "      <td>0.004399</td>\n",
       "      <td>0.611111</td>\n",
       "      <td>3.509912</td>\n",
       "    </tr>\n",
       "    <tr>\n",
       "      <th>0</th>\n",
       "      <td>ground beef</td>\n",
       "      <td>spaghetti</td>\n",
       "      <td>0.004799</td>\n",
       "      <td>0.571429</td>\n",
       "      <td>3.281995</td>\n",
       "    </tr>\n",
       "    <tr>\n",
       "      <th>4</th>\n",
       "      <td>ground beef</td>\n",
       "      <td>spaghetti</td>\n",
       "      <td>0.004799</td>\n",
       "      <td>0.571429</td>\n",
       "      <td>3.281995</td>\n",
       "    </tr>\n",
       "    <tr>\n",
       "      <th>1</th>\n",
       "      <td>olive oil</td>\n",
       "      <td>milk</td>\n",
       "      <td>0.004799</td>\n",
       "      <td>0.423529</td>\n",
       "      <td>3.268410</td>\n",
       "    </tr>\n",
       "    <tr>\n",
       "      <th>5</th>\n",
       "      <td>olive oil</td>\n",
       "      <td>nan</td>\n",
       "      <td>0.004799</td>\n",
       "      <td>0.423529</td>\n",
       "      <td>3.268410</td>\n",
       "    </tr>\n",
       "    <tr>\n",
       "      <th>2</th>\n",
       "      <td>ground beef</td>\n",
       "      <td>spaghetti</td>\n",
       "      <td>0.005999</td>\n",
       "      <td>0.523256</td>\n",
       "      <td>3.005315</td>\n",
       "    </tr>\n",
       "    <tr>\n",
       "      <th>6</th>\n",
       "      <td>ground beef</td>\n",
       "      <td>spaghetti</td>\n",
       "      <td>0.005999</td>\n",
       "      <td>0.523256</td>\n",
       "      <td>3.005315</td>\n",
       "    </tr>\n",
       "  </tbody>\n",
       "</table>\n",
       "</div>"
      ],
      "text/plain": [
       "  Left Hand Side Right Hand Side   Support  Confidence      Lift\n",
       "3      olive oil       spaghetti  0.004399    0.611111  3.509912\n",
       "7      olive oil       spaghetti  0.004399    0.611111  3.509912\n",
       "0    ground beef       spaghetti  0.004799    0.571429  3.281995\n",
       "4    ground beef       spaghetti  0.004799    0.571429  3.281995\n",
       "1      olive oil            milk  0.004799    0.423529  3.268410\n",
       "5      olive oil             nan  0.004799    0.423529  3.268410\n",
       "2    ground beef       spaghetti  0.005999    0.523256  3.005315\n",
       "6    ground beef       spaghetti  0.005999    0.523256  3.005315"
      ]
     },
     "execution_count": 43,
     "metadata": {},
     "output_type": "execute_result"
    }
   ],
   "source": [
    "resultsinDataFrame.nlargest(n = 10, columns = 'Lift')"
   ]
  }
 ],
 "metadata": {
  "kernelspec": {
   "display_name": "Python 3",
   "language": "python",
   "name": "python3"
  },
  "language_info": {
   "codemirror_mode": {
    "name": "ipython",
    "version": 3
   },
   "file_extension": ".py",
   "mimetype": "text/x-python",
   "name": "python",
   "nbconvert_exporter": "python",
   "pygments_lexer": "ipython3",
   "version": "3.9.12"
  }
 },
 "nbformat": 4,
 "nbformat_minor": 5
}
